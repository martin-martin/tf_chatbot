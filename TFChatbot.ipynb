{
 "cells": [
  {
   "cell_type": "code",
   "execution_count": 1,
   "metadata": {
    "collapsed": false
   },
   "outputs": [],
   "source": [
    "import tensorflow as tf\n",
    "import data_utils\n",
    "import seq2seq_model"
   ]
  },
  {
   "cell_type": "code",
   "execution_count": null,
   "metadata": {
    "collapsed": true
   },
   "outputs": [],
   "source": [
    "def train():\n",
    "    # prepare the dataset\n",
    "    encoder_train, decoder_train = data_utils.prepare_custom_data(gConfig['working_directory'])\n",
    "    \n",
    "    train_set = read_data(encoder_train, decoder_train)\n",
    "    \n",
    "with tf.Session(config=config) as sess:\n",
    "    # Create model\n",
    "    model = create_model(sess, False)\n",
    "    \n",
    "    while True:\n",
    "        sess.run(model)\n",
    "        \n",
    "        # save checkpoint and zero timer and loss\n",
    "        checkpoint_path = os.path.join(gConfig['working_directory'], \"seq2seq.ckpt\")\n",
    "        model.saver.save(sess, checkpoint_path, global_step=model.global_step)"
   ]
  }
 ],
 "metadata": {
  "anaconda-cloud": {},
  "kernelspec": {
   "display_name": "Python [conda env:car]",
   "language": "python",
   "name": "conda-env-car-py"
  },
  "language_info": {
   "codemirror_mode": {
    "name": "ipython",
    "version": 3
   },
   "file_extension": ".py",
   "mimetype": "text/x-python",
   "name": "python",
   "nbconvert_exporter": "python",
   "pygments_lexer": "ipython3",
   "version": "3.5.2"
  }
 },
 "nbformat": 4,
 "nbformat_minor": 1
}
